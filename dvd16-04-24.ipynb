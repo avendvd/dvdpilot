{
 "cells": [
  {
   "cell_type": "code",
   "execution_count": 1,
   "metadata": {},
   "outputs": [
    {
     "name": "stdout",
     "output_type": "stream",
     "text": [
      "Taxa a ser paga é de:  3.0\n"
     ]
    }
   ],
   "source": [
    "preco = float(input(\"Qual o preço do seu carro? \"))\n",
    "ano = float(input(\"Qual o ano de fabricação do seu carro? \"))\n",
    " \n",
    "if (ano < 1990):\n",
    "    print(\"Taxa a ser paga é de: \", preco * 0.001)\n",
    "else:\n",
    "    print(\"Taxa a ser paga é de: \", preco * 0.0015)"
   ]
  },
  {
   "cell_type": "code",
   "execution_count": 10,
   "metadata": {},
   "outputs": [
    {
     "name": "stdout",
     "output_type": "stream",
     "text": [
      "Seu antigo salário era: 1500.0 Seu salário passou a ser:  1800.0\n"
     ]
    }
   ],
   "source": [
    "salario = float(input('Qual é o seu salário atual?'))\n",
    "cargo = int(input('Qual é o seu cargo atual?'))\n",
    " \n",
    "if (cargo == 101):\n",
    "    print('Seu antigo salário era:', salario,'Seu salário passou a ser: ', salario * 0.1 + salario)\n",
    "elif (cargo == 102):\n",
    "    print('Seu antigo salário era:', salario,'Seu salário passou a ser: ', salario * 0.2 + salario)    \n",
    "elif (cargo == 103):\n",
    "    print('Seu antigo salário era:', salario, 'Seu salário passou a ser: ', salario * 0.3 + salario)  \n",
    "else:\n",
    "    print('Seu antigo salário era:', salario, 'Seu salário passou a ser: ', salario * 0.4 + salario)"
   ]
  },
  {
   "cell_type": "code",
   "execution_count": null,
   "metadata": {},
   "outputs": [],
   "source": []
  }
 ],
 "metadata": {
  "kernelspec": {
   "display_name": "Python 3",
   "language": "python",
   "name": "python3"
  },
  "language_info": {
   "codemirror_mode": {
    "name": "ipython",
    "version": 3
   },
   "file_extension": ".py",
   "mimetype": "text/x-python",
   "name": "python",
   "nbconvert_exporter": "python",
   "pygments_lexer": "ipython3",
   "version": "3.12.3"
  }
 },
 "nbformat": 4,
 "nbformat_minor": 2
}
