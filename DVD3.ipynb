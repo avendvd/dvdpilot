{
 "cells": [
  {
   "cell_type": "code",
   "execution_count": 1,
   "metadata": {},
   "outputs": [
    {
     "name": "stdout",
     "output_type": "stream",
     "text": [
      "5\n"
     ]
    }
   ],
   "source": [
    "#pedir um número\n",
    "\n",
    "numero1 = int(input('digite um número:'))\n",
    "print(numero1)"
   ]
  },
  {
   "cell_type": "code",
   "execution_count": 4,
   "metadata": {},
   "outputs": [
    {
     "name": "stdout",
     "output_type": "stream",
     "text": [
      "8.5\n"
     ]
    }
   ],
   "source": [
    "#pedir dois números e imprimir a soma\n",
    "#utilizar int = número inteiro (1, 2, 3) ; float = número real (1.2 ou 1.2 e diante...)\n",
    "\n",
    "numero2 = int(input('digite um número inteiro qualquer:'))\n",
    "numero3 = float(input('digite um número real qualquer:'))\n",
    "print(numero2+numero3)"
   ]
  },
  {
   "cell_type": "code",
   "execution_count": 5,
   "metadata": {},
   "outputs": [
    {
     "name": "stdout",
     "output_type": "stream",
     "text": [
      "6.666666666666667\n"
     ]
    }
   ],
   "source": [
    "#pedir 3 notas e mostrar a média\n",
    "\n",
    "numero4 = float(input('digite a sua primeira nota:'))\n",
    "numero5 = float(input('digite a sua segunda nota:'))\n",
    "numero6 = float(input('digite a sua terceira nota:'))\n",
    "print((numero4+numero5+numero6)/3)"
   ]
  },
  {
   "cell_type": "code",
   "execution_count": 8,
   "metadata": {},
   "outputs": [
    {
     "name": "stdout",
     "output_type": "stream",
     "text": [
      "você ultrapassou o limite de peso de peixes estabelecido\n"
     ]
    }
   ],
   "source": [
    "# joão é pescador no litoral do recife. toda vez que joão traz um peso de peixes maior que o estabelecido pelo regulamento\n",
    "# de pesca do estado de pernambuco (50 quilos) deve pagar uma multa de R$ 4,00 por quilo excedente.\n",
    "# faça um programa que leia a variável peso (peso de peixes) e calcule o excesso\n",
    "# gravar na variável excesso a quantidade de quilos além do limite e na variável multa o valor da multa que joão \n",
    "# deverá pagar. imprima os dados do programa com as mensagens para alertar joão\n",
    "\n",
    "peso_limite = 50\n",
    "peso_joao = float(input('digite a quantidade de peso:'))\n",
    "excedente = peso_joao - peso_limite \n",
    "if peso_joao == peso_limite:\n",
    "   print('você atingiu o limite de peso de peixes estabelecido. ao ultrapassá-lo, será multado em R$4,00 por quilo excedente')\n",
    "elif peso_joao > peso_limite:\n",
    "     print('você ultrapassou o limite de peso de peixes estabelecido')\n",
    "else:\n",
    "    print('você está dentro do limite de peso de peixes estabelecido pelo regulamento de pesca! :)')\n",
    "\n",
    "\n"
   ]
  },
  {
   "cell_type": "code",
   "execution_count": 9,
   "metadata": {},
   "outputs": [
    {
     "name": "stdout",
     "output_type": "stream",
     "text": [
      "Você ultrapassou o limite de peso de peixes estabelecido.\n",
      "Excesso de peso: 5.00 kg\n",
      "Valor da multa a ser paga: R$20.00\n"
     ]
    }
   ],
   "source": [
    "#chat gpt\n",
    "\n",
    "peso_limite = 50\n",
    "peso_joao = float(input('Digite a quantidade de peso de peixes em quilos: '))\n",
    "\n",
    "if peso_joao > peso_limite:\n",
    "    excedente = peso_joao - peso_limite\n",
    "    multa_por_quilo = 4.00\n",
    "    multa = excedente * multa_por_quilo\n",
    "    print('Você ultrapassou o limite de peso de peixes estabelecido.')\n",
    "    print(f'Excesso de peso: {excedente:.2f} kg')\n",
    "    print(f'Valor da multa a ser paga: R${multa:.2f}')\n",
    "else:\n",
    "    print('Você está dentro do limite de peso de peixes estabelecido pelo regulamento de pesca!')"
   ]
  }
 ],
 "metadata": {
  "kernelspec": {
   "display_name": "Python 3",
   "language": "python",
   "name": "python3"
  },
  "language_info": {
   "codemirror_mode": {
    "name": "ipython",
    "version": 3
   },
   "file_extension": ".py",
   "mimetype": "text/x-python",
   "name": "python",
   "nbconvert_exporter": "python",
   "pygments_lexer": "ipython3",
   "version": "3.12.3"
  }
 },
 "nbformat": 4,
 "nbformat_minor": 2
}
