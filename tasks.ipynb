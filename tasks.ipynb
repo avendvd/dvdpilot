{
 "cells": [
  {
   "cell_type": "code",
   "execution_count": 5,
   "metadata": {},
   "outputs": [
    {
     "name": "stdout",
     "output_type": "stream",
     "text": [
      "A letra digitada é uma vogal.\n"
     ]
    }
   ],
   "source": [
    "# 1) programa que verifica se a letra digitada é vogal ou consoante\n",
    "\n",
    "letra1 = input(\"Digite uma letra:\")\n",
    "\n",
    "# letra1.lower é o código para tratar a entrada como uma letra minúscula.\n",
    "if letra1.lower() in 'aeiou':\n",
    "    print(\"A letra digitada é uma vogal.\")\n",
    "elif letra1.lower() >= 'a' and letra1.lower() <= 'z':\n",
    "    print(\"A letra digitada é uma consoante.\")\n",
    "else:\n",
    "    print(\"O caractere digitado não é uma letra do alfabeto.\")"
   ]
  },
  {
   "cell_type": "code",
   "execution_count": 13,
   "metadata": {},
   "outputs": [
    {
     "name": "stdout",
     "output_type": "stream",
     "text": [
      "Você deve comprar o terceiro produto!\n"
     ]
    }
   ],
   "source": [
    "# 2) programa que pergunte o preço de três produtos e informe qual produto comprar, sabendo que a decisão é pelo mais barato\n",
    "\n",
    "preco1 = float(input(\"Digite o preço do primeiro produto: \"))\n",
    "preco2 = float(input(\"Digite o preço do segundo produto: \"))\n",
    "preco3 = float(input(\"Digite o preco do terceiro produto: \"))\n",
    "\n",
    "if preco1 < preco2 and preco1 < preco3:\n",
    "    print(\"Você deve comprar o primeiro produto!\")\n",
    "elif preco2 < preco1 and preco2 < preco3:\n",
    "    print(\"Você deve comprar o segundo produto!\")\n",
    "elif preco3 < preco1 and preco3 < preco2:\n",
    "    print(\"Você deve comprar o terceiro produto!\")\n",
    "else: \n",
    "    print(\"Os produtos possuem preços iguais. Compre de acordo com o seu gosto! :D\")"
   ]
  },
  {
   "cell_type": "code",
   "execution_count": 14,
   "metadata": {},
   "outputs": [
    {
     "name": "stdout",
     "output_type": "stream",
     "text": [
      "Números em ordem decrescente: [8.0, 5.0, 1.0]\n"
     ]
    }
   ],
   "source": [
    "# 3) programa que leia três números e mostre-os em ordem decrescente\n",
    "\n",
    "numero1 = float(input(\"Digite o primeiro número: \"))\n",
    "numero2 = float(input(\"Digite o segundo número: \"))\n",
    "numero3 = float(input(\"Digite o terceiro número: \"))\n",
    "numeros = [numero1, numero2, numero3]\n",
    "\n",
    "# ordenar a lista em ordem decrescente e mostra-los.\n",
    "numeros.sort(reverse=True)\n",
    "print(\"Números em ordem decrescente:\", numeros)"
   ]
  },
  {
   "cell_type": "code",
   "execution_count": 23,
   "metadata": {},
   "outputs": [
    {
     "name": "stdout",
     "output_type": "stream",
     "text": [
      "Boa noite! :)\n"
     ]
    }
   ],
   "source": [
    "# 4) programa que pergunte em que turno você estuda. peça para digitar M-matutino ou V-vespertino ou N-noturno. \n",
    "# imprima a mensagem \"Bom dia!\", \"Boa tarde! ou \"Boa noite!\" ou \"Valor inválido!\", conforme o caso.\n",
    "\n",
    "turno = input(\"Em que turno você estuda? (M - Matutino, V - Vespertino, N - Noturno):\")\n",
    "\n",
    "# turno.upper é para tratar a entrada como uma letra maiúscula.\n",
    "if turno.upper() == \"M\":\n",
    "    print(\"Bom dia! :)\")\n",
    "elif turno.upper() == \"V\":\n",
    "    print(\"Boa tarde! :)\")\n",
    "elif turno.upper() == \"N\":\n",
    "    print(\"Boa noite! :)\")\n",
    "else:\n",
    "    print(\"Valor inválido! :(\")"
   ]
  },
  {
   "cell_type": "code",
   "execution_count": 27,
   "metadata": {},
   "outputs": [
    {
     "name": "stdout",
     "output_type": "stream",
     "text": [
      "Equivale ao Domingo!\n"
     ]
    }
   ],
   "source": [
    "# 5) programa que leia um número e exiba o dia correspondente da semana. (1-domingo, 2-segunda, etc). \n",
    "# se for digitado outro valor, deve retornar uma mensagem informando \"Valor inválido\"\n",
    "\n",
    "numero = int(input(\"Digite um número de 1 a 7:\"))\n",
    "if numero == 1:\n",
    "    print(\"Equivale ao Domingo!\")\n",
    "elif numero == 2:\n",
    "    print(\"Equivale à Segunda-Feira!\")\n",
    "elif numero == 3:\n",
    "    print(\"Equivale à Terça-Feira!\")\n",
    "elif numero == 4: \n",
    "    print(\"Equivale à Quarta-Feira!\")\n",
    "elif numero == 5:\n",
    "    print(\"Equivale à Quinta-Feira!\")\n",
    "elif numero == 6:\n",
    "    print(\"Equivale à Sexta-Feira!\")\n",
    "elif numero == 7:\n",
    "    print(\"Equivale ao Sábado!\")\n",
    "else: \n",
    "    print(\"Valor inválido. Tente novamente.\")"
   ]
  },
  {
   "cell_type": "code",
   "execution_count": null,
   "metadata": {},
   "outputs": [],
   "source": [
    "# pedi para o chat gpt refinar a minha resposta anterior e tive o seguinte código:\n",
    "\n",
    "# Dicionário que mapeia os números aos dias da semana\n",
    "dias_da_semana = {\n",
    "    1: \"Domingo\",\n",
    "    2: \"Segunda-feira\",\n",
    "    3: \"Terça-feira\",\n",
    "    4: \"Quarta-feira\",\n",
    "    5: \"Quinta-feira\",\n",
    "    6: \"Sexta-feira\",\n",
    "    7: \"Sábado\"\n",
    "}\n",
    "\n",
    "# Solicita ao usuário que digite um número de 1 a 7\n",
    "numero = int(input(\"Digite um número de 1 a 7: \"))\n",
    "\n",
    "# Verifica se o número está no intervalo de 1 a 7\n",
    "if numero in dias_da_semana:\n",
    "    # Se estiver, imprime o dia da semana correspondente\n",
    "    print(dias_da_semana[numero])\n",
    "else:\n",
    "    # Caso contrário, imprime \"Valor inválido\"\n",
    "    print(\"Valor inválido\")"
   ]
  },
  {
   "cell_type": "code",
   "execution_count": 30,
   "metadata": {},
   "outputs": [],
   "source": [
    "# 6) programa que lê as duas notas parciais obtidas por um aluno numa disciplina ao longo de um semestre e calcula a média.\n",
    "# média de aproveitamento / conceito \n",
    "# entre 9.0 e 10.0 / a \n",
    "# entre 7.5 e 9.0 / b \n",
    "# entre 6.0 e 7.5 / c \n",
    "# entre 4.0 e 6.0 / d \n",
    "# entre 4.0 e 0 / e\n",
    "# o programa deve mostrar na tela as notas, a média, o conceito correspondente e a mensagem \"APROVADO\" se o conceito for \n",
    "# A, B ou C ou \"REPROVADO\" se o conceito for D ou E\n",
    "\n",
    "nota1 = float(input(\"Digite a sua primeira nota: \"))\n",
    "nota2 = float(input(\"Digite a sua segunda nota: \"))\n",
    "\n",
    "media = (nota1 + nota2) / 2\n",
    "\n",
    "if media >= 9.0:\n",
    "    conceito = \"A\"\n",
    "elif media >= 7.5:\n",
    "    conceito = \"B\"\n",
    "elif media >= 6.0:\n",
    "    conceito = \"C\"\n",
    "elif media >= 4.0:\n",
    "    conceito = \"D\"\n",
    "else:\n",
    "    conceito = \"E\"\n",
    "\n",
    "if conceito in ['A', 'B', 'C']:\n",
    "    situacao = \"APROVADO\"\n",
    "else:\n",
    "    situacao = \"REPROVADO\"\n",
    "\n",
    "print()\n",
    "\n"
   ]
  },
  {
   "cell_type": "code",
   "execution_count": 32,
   "metadata": {},
   "outputs": [
    {
     "name": "stdout",
     "output_type": "stream",
     "text": [
      "O ano 2025 não é bissexto.\n"
     ]
    }
   ],
   "source": [
    "# 7) programa que pede um número correspondente a um determinado ano e em seguida informa se é ano bissexto ou não\n",
    "\n",
    "ano = int(input(\"Digite um ano: \"))\n",
    "\n",
    "if (ano % 4 == 0 and ano % 100 != 0) or (ano % 400 == 0):\n",
    "    print(f\"O ano {ano} é bissexto.\")\n",
    "else:\n",
    "    print(f\"O ano {ano} não é bissexto.\")"
   ]
  },
  {
   "cell_type": "code",
   "execution_count": null,
   "metadata": {},
   "outputs": [],
   "source": [
    "# 8) programa que leia 2 números e em seguida pergunte ao usuário qual operação básica (soma, subtração, multiplicação, divisão, \n",
    "# exponenciação) ele deseja realizar. O resultado da operação deve ser acompanhado de uma frase que diga se o número é: \n",
    "# par ou impar; positivo ou negativo; inteiro ou decimal\n",
    "\n",
    "numero1 = float(input(\"Digite o primeiro número:\"))\n",
    "numero2 = float(input(\"Digite o segundo número:\"))\n",
    "\n",
    "operacao = input(\"Qual operação você deseja realizar? (soma, subtração, multiplicação, divisão, exponenciação):\")\n"
   ]
  },
  {
   "cell_type": "code",
   "execution_count": 40,
   "metadata": {},
   "outputs": [
    {
     "name": "stdout",
     "output_type": "stream",
     "text": [
      " Você tem 150 anos!\n"
     ]
    }
   ],
   "source": [
    "# 9) programa que peça a idade e exiba a informação. os valores aceitáveis devem estar entre 0 e 150. \n",
    "# valores fora desse limite não poderão ser aceitos.\n",
    "\n",
    "idade = int(input(\"Qual é a sua idade?\"))\n",
    "\n",
    "if idade >= 0 and idade <= 150:\n",
    "    print(f\" Você tem {idade} anos!\")\n",
    "else:\n",
    "    print(\"Valor não aceito.\")\n"
   ]
  },
  {
   "cell_type": "code",
   "execution_count": 43,
   "metadata": {},
   "outputs": [
    {
     "name": "stdout",
     "output_type": "stream",
     "text": [
      "A soma dos números é de: 75\n",
      "A média dos números é de: 15.0\n"
     ]
    }
   ],
   "source": [
    "# 10) utilizando estruturas de repetição e listas (com ou sem .append), faça um programa que leia 5 números e \n",
    "# informe a soma e a média dos números\n",
    "\n",
    "minhalista = [5, 10, 15, 20, 25]\n",
    "\n",
    "soma = 0 \n",
    "\n",
    "for numero in minhalista:\n",
    "    soma += numero\n",
    "\n",
    "media = soma / len(minhalista)\n",
    "\n",
    "print(\"A soma dos números é de:\", soma)\n",
    "print(\"A média dos números é de:\", media)\n"
   ]
  },
  {
   "cell_type": "code",
   "execution_count": null,
   "metadata": {},
   "outputs": [],
   "source": [
    "# 11) programa que peça um número inteiro e determine se ele é ou não um número primo. \n",
    "# um número primo é aquele que é divisível somente por ele mesmo e por 1\n",
    "\n",
    "numero = int(input(\"Digite um número inteiro: \"))\n",
    "\n",
    "def verificar_primo(numero):\n",
    "    if numero <= 1:\n",
    "        return False\n",
    "    for i in range(2, numero):\n",
    "        if numero % i == 0:\n",
    "            return False\n",
    "    return True\n",
    "if verificar_primo(numero):\n",
    "    print(numero, \"é um número primo.\")\n",
    "else:\n",
    "    print(numero, \"não é um número primo.\")\n"
   ]
  },
  {
   "cell_type": "code",
   "execution_count": null,
   "metadata": {},
   "outputs": [],
   "source": [
    "# 12 programa que leia 5 temperaturas e informe ao final a menor e as maiores temperaturas informadas, bem como a média das temperaturas\n",
    "\n",
    "temperaturas = [5, 10, 15, 20, 25]\n",
    "\n",
    "menor_temperatura = min(temperaturas)\n",
    "maiores_temperaturas = sorted(temperaturas)[-4:]\n",
    "\n",
    "media_temperaturas = sum(temperaturas)/len(temperaturas)\n",
    "\n",
    "print(f\"A menor temperatura é: {menor_temperatura}\")\n",
    "print(f\"As maiores temperaturas são: {maiores_temperaturas}\")\n",
    "print(f\"A média das temperaturas é: {media_temperaturas}\")\n",
    "\n"
   ]
  },
  {
   "cell_type": "code",
   "execution_count": 4,
   "metadata": {},
   "outputs": [
    {
     "name": "stdout",
     "output_type": "stream",
     "text": [
      "Seu saldo médio é: R$ 200.5 , e o valor do seu crédito é: R$ 40.1\n"
     ]
    }
   ],
   "source": [
    "# 13) Um banco concederá um crédito especial aos seus clientes, variável com o saldo médio no último ano. Faça um algorítmo que leia o saldo médio de um cliente e \n",
    "# calcule o valor do crédito de acordo com a tabela abaixo. Mostre uma mensagem informando o saldo médio e o valor do crédito.\n",
    "\n",
    "saldoMedio = 200.50\n",
    " \n",
    "if saldoMedio >= 0 and saldoMedio <= 200:\n",
    "    print(\"Você não possui crédito.\")\n",
    "elif saldoMedio > 200 and saldoMedio <= 400:\n",
    "    credito = saldoMedio * 0.2\n",
    "    print(\"Seu saldo médio é: R$\", saldoMedio, \", e o valor do seu crédito é: R$\", credito)\n",
    "elif saldoMedio > 400 and saldoMedio <= 600:\n",
    "    credito = saldoMedio * 0.3\n",
    "    print(\"Seu saldo médio é: R$\", saldoMedio, \", e o valor do seu crédito é: R$\", credito)\n",
    "else:\n",
    "    credito = saldoMedio * 0.4\n",
    "    print(\"Seu saldo médio é: R$\", saldoMedio, \", e o valor do seu crédito é: R$\", credito)\n"
   ]
  },
  {
   "cell_type": "code",
   "execution_count": 9,
   "metadata": {},
   "outputs": [
    {
     "name": "stdout",
     "output_type": "stream",
     "text": [
      "Olá, deyvid! Você irá se aposentar daqui a 15 anos.\n"
     ]
    }
   ],
   "source": [
    "# 14) programa que diga a pessoa o ano que ela poderá se aposentar. pergunte o nome, a idade e crie uma mensagem dizendo em \n",
    "# qual ano ela irá se aposentar. considere que todas as pessoas poderão se aposentar aos 65 anos de idade\n",
    "\n",
    "nome = input(\"Digite seu nome: \")\n",
    "idade = int(input(\"Digite sua idade: \"))\n",
    "\n",
    "anos_aposentar = 65 - idade\n",
    "\n",
    "mensagem = \"Olá, {}! Você irá se aposentar daqui a {} anos.\".format(nome, anos_aposentar)\n",
    "print(mensagem)"
   ]
  },
  {
   "cell_type": "code",
   "execution_count": 10,
   "metadata": {},
   "outputs": [
    {
     "name": "stdout",
     "output_type": "stream",
     "text": [
      "Salário Bruto: R$ 924.0\n",
      "Desconto do Imposto de Renda: R$ 0\n",
      "Desconto do Sindicato: R$ 27.72\n",
      "FGTS: R$ 101.64\n",
      "Salário Líquido: R$ 896.28\n"
     ]
    }
   ],
   "source": [
    "# 15) um programa para o cálculo de uma folha de pagamento\n",
    "\n",
    "valorHora = float(input(\"Digite o valor da sua hora de trabalho: \"))\n",
    "horasTrabalhadas = float(input(\"Digite a quantidade de horas trabalhadas no mês: \"))\n",
    " \n",
    "salarioBruto = valorHora * horasTrabalhadas\n",
    " \n",
    "if salarioBruto <= 2112.00:\n",
    "    descontoIr = 0\n",
    "elif salarioBruto <= 2826.65:\n",
    "    descontoIr = salarioBruto * 0.075\n",
    "elif salarioBruto <= 3751.05:\n",
    "    descontoIr = salarioBruto * 0.15\n",
    "elif salarioBruto <= 4664.68:\n",
    "    descontoIr = salarioBruto * 0.225\n",
    "else:\n",
    "    descontoIr = salarioBruto * 0.275\n",
    " \n",
    "descontoSindicato = salarioBruto * 0.03\n",
    "fgts = salarioBruto * 0.11\n",
    "salarioLiquido = salarioBruto - descontoIr - descontoSindicato\n",
    " \n",
    "print(\"Salário Bruto: R$\", salarioBruto)\n",
    "print(\"Desconto do Imposto de Renda: R$\", descontoIr)\n",
    "print(\"Desconto do Sindicato: R$\", descontoSindicato)\n",
    "print(\"FGTS: R$\", fgts)\n",
    "print(\"Salário Líquido: R$\", salarioLiquido)"
   ]
  }
 ],
 "metadata": {
  "kernelspec": {
   "display_name": "Python 3",
   "language": "python",
   "name": "python3"
  },
  "language_info": {
   "codemirror_mode": {
    "name": "ipython",
    "version": 3
   },
   "file_extension": ".py",
   "mimetype": "text/x-python",
   "name": "python",
   "nbconvert_exporter": "python",
   "pygments_lexer": "ipython3",
   "version": "3.12.3"
  }
 },
 "nbformat": 4,
 "nbformat_minor": 2
}
