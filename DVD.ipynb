{
 "cells": [
  {
   "cell_type": "code",
   "execution_count": null,
   "metadata": {},
   "outputs": [],
   "source": [
    "print('hello novos jeans')\n",
    "\n",
    "pessoa= 'Deyvid'\n",
    "\n",
    "print(pessoa)\n",
    "\n",
    "pessoa= 'Deyvid' \n",
    "idade= 22\n",
    "altura= 1.74\n",
    "dev= True\n",
    "\n",
    "pessoa= 'Deyvid'\n",
    "type(pessoa)\n",
    "\n",
    "idade= 22\n",
    "type(idade)\n",
    "\n",
    "altura= 1.74\n",
    "type(altura)\n",
    "\n",
    "dev= True \n",
    "type(dev)\n",
    "\n",
    "#Operações com variáveis\n",
    "idade1= 20\n",
    "idade2= 35\n",
    "\n",
    "idade1 + idade2 \n",
    "\n",
    "soma= idade1 + idade2 \n",
    "\n",
    "'''\n",
    "adição +\n",
    "subtração -\n",
    "multiplicação *\n",
    "divisão /\n",
    "'''\n",
    "\n",
    "\n"
   ]
  }
 ],
 "metadata": {
  "kernelspec": {
   "display_name": "Python 3",
   "language": "python",
   "name": "python3"
  },
  "language_info": {
   "name": "python",
   "version": "3.11.4"
  }
 },
 "nbformat": 4,
 "nbformat_minor": 2
}
